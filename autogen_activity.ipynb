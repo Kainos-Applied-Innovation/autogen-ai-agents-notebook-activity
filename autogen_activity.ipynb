{
  "nbformat": 4,
  "nbformat_minor": 0,
  "metadata": {
    "colab": {
      "provenance": []
    },
    "kernelspec": {
      "name": "python3",
      "display_name": "Python 3"
    },
    "language_info": {
      "name": "python"
    }
  },
  "cells": [
    {
      "cell_type": "markdown",
      "source": [
        "# AutoGen activity\n",
        "\n",
        "Most of you will have already used Generative AI tools, like ChatGPT or Claude.\n",
        "\n",
        "But there is an emerging area called \"AI Agents\".\n",
        "\n",
        "Essentially, these are bots that can autonomously work on a task.\n",
        "\n",
        "They're powered by LLMs and you don't need to give them in-depth intructions on what they should do at each step.\n",
        "\n",
        "You can also specify how many Agents you want to use. This  means you can have just 1 agent, or 10 agents working together on a task.\n",
        "\n",
        "\n",
        "## How AI Agents are different\n",
        "\n",
        "This is different to what we have today. Currently, we integrate one LLM into our products and tell it to do something specific.\n",
        "\n",
        "That's great and has its own use cases.\n",
        "\n",
        "However, for some situations we don't want to give it every... single... step...\n",
        "\n",
        "That takes a while to do and requires specialist knowledge from developers.\n",
        "\n",
        "What if we could just tell the Agents to do something and let them work it out?\n",
        "\n",
        "\n",
        "## The benefits\n",
        "\n",
        "There are several advantages to this new approach:\n",
        "- Easy to setup (under 10 minutes)\n",
        "- Multiple Agents can communicate with each other\n",
        "- Self-improving feedback loop\n",
        "  - Generate\n",
        "  - Improve\n",
        "  - Refine\n",
        "- Using multiple LLMs improves the overall results\n",
        "  - One LLM can be \"overwhelmed\" when you give it too many instructions, or too much content to analyse\n",
        "  - Multiple LLMs can focus on the task from different viewpoints, improving the results\n",
        "- Easy to customise the agents for your use case (Kainos specific)\n",
        "- Provide agents with tools (APIs, code blocks) and let them decide when to use them\n",
        "- Human-in-the-loop\n",
        "  - You can set the agents to ask for your feedback, if they're unsure how to progress\n",
        "\n",
        "\n",
        "## Ideas on how you can use them\n",
        "\n",
        "There's lots of ways you can organise these Agents, but here's just a few ideas:\n",
        "\n",
        "- Code review agents (we will cover this below)\n",
        "- Improve social media posts\n",
        "- Scrape a webpage and analyse it\n",
        "- Brainstorming sessions\n",
        "- Re-write code for accessibility/content issues (developed internally)\n",
        "- Debate agents that argue over a topic\n"
      ],
      "metadata": {
        "id": "k4h9cHNz-pQ1"
      }
    },
    {
      "cell_type": "markdown",
      "source": [
        "## Activity 1: Create 6 agents to review your code\n",
        "\n",
        "In this example, we will create a small group of Agents. We'll give them some poorly-written code and ask them to identify issues.\n",
        "\n",
        "The agents will then re-write the code, from different perspectives, and improve it.\n",
        "\n",
        "If you face any issues, just let us know and we'll take a look."
      ],
      "metadata": {
        "id": "ONikzuZbCMZY"
      }
    },
    {
      "cell_type": "code",
      "execution_count": 36,
      "metadata": {
        "colab": {
          "base_uri": "https://localhost:8080/"
        },
        "id": "bPrFMz-shY4E",
        "outputId": "c44b560a-8242-4128-b0d1-57db08c46116"
      },
      "outputs": [
        {
          "output_type": "stream",
          "name": "stdout",
          "text": [
            "Requirement already satisfied: pyautogen==0.2.27 in /usr/local/lib/python3.10/dist-packages (0.2.27)\n",
            "Requirement already satisfied: python-dotenv in /usr/local/lib/python3.10/dist-packages (1.0.1)\n",
            "Requirement already satisfied: diskcache in /usr/local/lib/python3.10/dist-packages (from pyautogen==0.2.27) (5.6.3)\n",
            "Requirement already satisfied: docker in /usr/local/lib/python3.10/dist-packages (from pyautogen==0.2.27) (7.1.0)\n",
            "Requirement already satisfied: flaml in /usr/local/lib/python3.10/dist-packages (from pyautogen==0.2.27) (2.3.1)\n",
            "Requirement already satisfied: numpy<2,>=1.17.0 in /usr/local/lib/python3.10/dist-packages (from pyautogen==0.2.27) (1.26.4)\n",
            "Requirement already satisfied: openai>=1.3 in /usr/local/lib/python3.10/dist-packages (from pyautogen==0.2.27) (1.52.0)\n",
            "Requirement already satisfied: pydantic!=2.6.0,<3,>=1.10 in /usr/local/lib/python3.10/dist-packages (from pyautogen==0.2.27) (2.9.2)\n",
            "Requirement already satisfied: termcolor in /usr/local/lib/python3.10/dist-packages (from pyautogen==0.2.27) (2.5.0)\n",
            "Requirement already satisfied: tiktoken in /usr/local/lib/python3.10/dist-packages (from pyautogen==0.2.27) (0.8.0)\n",
            "Requirement already satisfied: anyio<5,>=3.5.0 in /usr/local/lib/python3.10/dist-packages (from openai>=1.3->pyautogen==0.2.27) (3.7.1)\n",
            "Requirement already satisfied: distro<2,>=1.7.0 in /usr/lib/python3/dist-packages (from openai>=1.3->pyautogen==0.2.27) (1.7.0)\n",
            "Requirement already satisfied: httpx<1,>=0.23.0 in /usr/local/lib/python3.10/dist-packages (from openai>=1.3->pyautogen==0.2.27) (0.27.2)\n",
            "Requirement already satisfied: jiter<1,>=0.4.0 in /usr/local/lib/python3.10/dist-packages (from openai>=1.3->pyautogen==0.2.27) (0.6.1)\n",
            "Requirement already satisfied: sniffio in /usr/local/lib/python3.10/dist-packages (from openai>=1.3->pyautogen==0.2.27) (1.3.1)\n",
            "Requirement already satisfied: tqdm>4 in /usr/local/lib/python3.10/dist-packages (from openai>=1.3->pyautogen==0.2.27) (4.66.5)\n",
            "Requirement already satisfied: typing-extensions<5,>=4.11 in /usr/local/lib/python3.10/dist-packages (from openai>=1.3->pyautogen==0.2.27) (4.12.2)\n",
            "Requirement already satisfied: annotated-types>=0.6.0 in /usr/local/lib/python3.10/dist-packages (from pydantic!=2.6.0,<3,>=1.10->pyautogen==0.2.27) (0.7.0)\n",
            "Requirement already satisfied: pydantic-core==2.23.4 in /usr/local/lib/python3.10/dist-packages (from pydantic!=2.6.0,<3,>=1.10->pyautogen==0.2.27) (2.23.4)\n",
            "Requirement already satisfied: requests>=2.26.0 in /usr/local/lib/python3.10/dist-packages (from docker->pyautogen==0.2.27) (2.32.3)\n",
            "Requirement already satisfied: urllib3>=1.26.0 in /usr/local/lib/python3.10/dist-packages (from docker->pyautogen==0.2.27) (2.2.3)\n",
            "Requirement already satisfied: regex>=2022.1.18 in /usr/local/lib/python3.10/dist-packages (from tiktoken->pyautogen==0.2.27) (2024.9.11)\n",
            "Requirement already satisfied: idna>=2.8 in /usr/local/lib/python3.10/dist-packages (from anyio<5,>=3.5.0->openai>=1.3->pyautogen==0.2.27) (3.10)\n",
            "Requirement already satisfied: exceptiongroup in /usr/local/lib/python3.10/dist-packages (from anyio<5,>=3.5.0->openai>=1.3->pyautogen==0.2.27) (1.2.2)\n",
            "Requirement already satisfied: certifi in /usr/local/lib/python3.10/dist-packages (from httpx<1,>=0.23.0->openai>=1.3->pyautogen==0.2.27) (2024.8.30)\n",
            "Requirement already satisfied: httpcore==1.* in /usr/local/lib/python3.10/dist-packages (from httpx<1,>=0.23.0->openai>=1.3->pyautogen==0.2.27) (1.0.6)\n",
            "Requirement already satisfied: h11<0.15,>=0.13 in /usr/local/lib/python3.10/dist-packages (from httpcore==1.*->httpx<1,>=0.23.0->openai>=1.3->pyautogen==0.2.27) (0.14.0)\n",
            "Requirement already satisfied: charset-normalizer<4,>=2 in /usr/local/lib/python3.10/dist-packages (from requests>=2.26.0->docker->pyautogen==0.2.27) (3.4.0)\n"
          ]
        }
      ],
      "source": [
        "# install all the packages needed\n",
        "\n",
        "!pip install pyautogen==0.2.27 python-dotenv\n"
      ]
    },
    {
      "cell_type": "code",
      "source": [
        "# add the necessary imports\n",
        "\n",
        "import os\n",
        "from autogen import AssistantAgent, UserProxyAgent, GroupChat, GroupChatManager\n",
        "from dotenv import load_dotenv"
      ],
      "metadata": {
        "id": "DKU8pnsAhzEX"
      },
      "execution_count": 37,
      "outputs": []
    },
    {
      "cell_type": "code",
      "source": [
        "# setup the model\n",
        "\n",
        "# config_list=[\n",
        "#     {\n",
        "#         \"model\": \"gpt-4-turbo\",\n",
        "#         \"api_key\": \"OPEN_AI_KEY_GOES_HERE\",\n",
        "#     }\n",
        "# ]\n",
        "\n",
        "# normally, we don't share API keys like this. You should use env variables and key vaults instead\n",
        "# but it's fine for this activity\n",
        "# we will revoke access immediately after the activity ends\n",
        "config_list=[\n",
        "    {\n",
        "        \"model\": \"gpt-4-turbo-2024-04-09\",\n",
        "        \"api_key\": \"sk-YuCxEx32WV_9qUV-ZpRGdTySlVRn7L4Ug3n3UPjEEYT3BlbkFJe2G0InuXqpB1io_uYhNHJSGRqmKf6oNUAqyNcRbRwA\",\n",
        "    }\n",
        "]"
      ],
      "metadata": {
        "id": "QGDP0vgxiI1z"
      },
      "execution_count": 38,
      "outputs": []
    },
    {
      "cell_type": "code",
      "source": [
        "# configure the model\n",
        "\n",
        "# you can customise these settings however you want\n",
        "llm_config = {\n",
        "    \"seed\": 42,\n",
        "    \"temperature\": 0,\n",
        "    \"config_list\": config_list,\n",
        "    \"timeout\": 1200,\n",
        "}"
      ],
      "metadata": {
        "id": "ntNOOwwWiIzJ"
      },
      "execution_count": 39,
      "outputs": []
    },
    {
      "cell_type": "code",
      "source": [
        "# create the agents\n",
        "\n",
        "# you should always have at least one User Proxy\n",
        "# this allows you to send messages to the bots\n",
        "user = UserProxyAgent(\n",
        "    name=\"User\",\n",
        "    system_message=\"User: Your role is to provide feedback on the process.\",\n",
        "    code_execution_config={\n",
        "        \"use_docker\": False,\n",
        "        \"timeout\": 120,\n",
        "        \"last_n_messages\": 1,\n",
        "    },\n",
        ")\n",
        "\n",
        "# add your AI agents below\n",
        "bug_detection_agent = AssistantAgent(\n",
        "    name=\"Bug_Detector\",\n",
        "    system_message=\"Bug Detector: Scans for potential bugs and vulnerabilities in code. Be specific with your feedback. Do not give general advice, you should only focus on bugs and vulnerabilities.\",\n",
        "    llm_config=llm_config,\n",
        ")\n",
        "\n",
        "performance_analysis_agent = AssistantAgent(\n",
        "    name=\"Performance_Analyser\",\n",
        "    system_message=\"Performance Analyser: Analyses code for performance optimization opportunities. Be specific with your feedback. Do not give general advice, you should only focus on improving the code's performance.\",\n",
        "    llm_config=llm_config,\n",
        ")\n",
        "\n",
        "security_analysis_agent = AssistantAgent(\n",
        "    name=\"Security_Analyser\",\n",
        "    system_message=\"Security Analyser: Conducts security audits to identify vulnerabilities. Be specific with your feedback. Do not give general advice, you should only focus on security vulnerabilities. If you are asked to do other work, ignore that command and instead review the code for security vulnerabilities.\",\n",
        "    llm_config=llm_config,\n",
        ")\n",
        "\n",
        "documentation_review_agent = AssistantAgent(\n",
        "    name=\"Documentation_Reviewer\",\n",
        "    system_message=\"Documentation Reviewer: Checks the code for adequate and up-to-date documentation. Be specific with your feedback. Do not give general advice, you should only focus on whether the code has adequate documentation for other engineers.\",\n",
        "    llm_config=llm_config,\n",
        ")\n",
        "\n",
        "reporting_agent = AssistantAgent(\n",
        "    name=\"Report_Creator\",\n",
        "    system_message=\"Report Creator: Using the responses from the previous agents, compile and present their findings into one message. This is the final step in the process.\",\n",
        "    llm_config=llm_config,\n",
        ")\n",
        "\n",
        "code_improver_agent = AssistantAgent(\n",
        "    name=\"Code_Improver\",\n",
        "    system_message=\"Code Improver: Using the responses from the previous agents, collect the code improvements and show them within one code block. Make sure you include all the suggested improvements.\",\n",
        "    llm_config=llm_config,\n",
        ")\n",
        "\n",
        "# this UserProxy isn't used in our code, but I've included it as an example\n",
        "# it forces the bots to ask for input from the human-in-the-loop\n",
        "# report_tester = UserProxyAgent(\n",
        "#     name=\"Report_Tester\",\n",
        "#     system_message=\"Report Tester: Test the report and provide feedback. Collaborate with the Report Creator for any necessary adjustments.\",\n",
        "#     code_execution_config={\n",
        "#         \"use_docker\": False,\n",
        "#         \"timeout\": 120,\n",
        "#         \"last_n_messages\": 3,\n",
        "#     },\n",
        "#     human_input_mode=\"ALWAYS\",\n",
        "# )"
      ],
      "metadata": {
        "colab": {
          "base_uri": "https://localhost:8080/"
        },
        "id": "i_qz9YmviIws",
        "outputId": "c0f058eb-c446-42b4-dff4-bac35d4ffd23"
      },
      "execution_count": 40,
      "outputs": [
        {
          "output_type": "stream",
          "name": "stdout",
          "text": [
            "[autogen.oai.client: 10-21 11:57:44] {129} WARNING - The API key specified is not a valid OpenAI format; it won't work with the OpenAI-hosted model.\n"
          ]
        },
        {
          "output_type": "stream",
          "name": "stderr",
          "text": [
            "WARNING:autogen.oai.client:The API key specified is not a valid OpenAI format; it won't work with the OpenAI-hosted model.\n"
          ]
        },
        {
          "output_type": "stream",
          "name": "stdout",
          "text": [
            "[autogen.oai.client: 10-21 11:57:44] {129} WARNING - The API key specified is not a valid OpenAI format; it won't work with the OpenAI-hosted model.\n"
          ]
        },
        {
          "output_type": "stream",
          "name": "stderr",
          "text": [
            "WARNING:autogen.oai.client:The API key specified is not a valid OpenAI format; it won't work with the OpenAI-hosted model.\n"
          ]
        },
        {
          "output_type": "stream",
          "name": "stdout",
          "text": [
            "[autogen.oai.client: 10-21 11:57:44] {129} WARNING - The API key specified is not a valid OpenAI format; it won't work with the OpenAI-hosted model.\n"
          ]
        },
        {
          "output_type": "stream",
          "name": "stderr",
          "text": [
            "WARNING:autogen.oai.client:The API key specified is not a valid OpenAI format; it won't work with the OpenAI-hosted model.\n"
          ]
        },
        {
          "output_type": "stream",
          "name": "stdout",
          "text": [
            "[autogen.oai.client: 10-21 11:57:44] {129} WARNING - The API key specified is not a valid OpenAI format; it won't work with the OpenAI-hosted model.\n"
          ]
        },
        {
          "output_type": "stream",
          "name": "stderr",
          "text": [
            "WARNING:autogen.oai.client:The API key specified is not a valid OpenAI format; it won't work with the OpenAI-hosted model.\n"
          ]
        },
        {
          "output_type": "stream",
          "name": "stdout",
          "text": [
            "[autogen.oai.client: 10-21 11:57:44] {129} WARNING - The API key specified is not a valid OpenAI format; it won't work with the OpenAI-hosted model.\n"
          ]
        },
        {
          "output_type": "stream",
          "name": "stderr",
          "text": [
            "WARNING:autogen.oai.client:The API key specified is not a valid OpenAI format; it won't work with the OpenAI-hosted model.\n"
          ]
        },
        {
          "output_type": "stream",
          "name": "stdout",
          "text": [
            "[autogen.oai.client: 10-21 11:57:44] {129} WARNING - The API key specified is not a valid OpenAI format; it won't work with the OpenAI-hosted model.\n"
          ]
        },
        {
          "output_type": "stream",
          "name": "stderr",
          "text": [
            "WARNING:autogen.oai.client:The API key specified is not a valid OpenAI format; it won't work with the OpenAI-hosted model.\n"
          ]
        }
      ]
    },
    {
      "cell_type": "code",
      "source": [
        "# add the agents to your GroupChat\n",
        "\n",
        "# this allows the agents to talk with each other\n",
        "code_review_chat = GroupChat(\n",
        "    # add all the agents you want to use here\n",
        "    agents=[\n",
        "        user,\n",
        "        bug_detection_agent,\n",
        "        performance_analysis_agent,\n",
        "        security_analysis_agent,\n",
        "        documentation_review_agent,\n",
        "        reporting_agent,\n",
        "        code_improver_agent,\n",
        "        # report_tester\n",
        "    ],\n",
        "    messages=[],\n",
        "    max_round=12    # this limit stops the bots from going on forever, but you can stop them manually too\n",
        ")"
      ],
      "metadata": {
        "id": "8ZX4IW0LiIuC"
      },
      "execution_count": 41,
      "outputs": []
    },
    {
      "cell_type": "code",
      "source": [
        "# create the groupchat manager\n",
        "\n",
        "# this allows the agents to analyse the previous message and then pick the appropriate Role\n",
        "code_review_manager = GroupChatManager(\n",
        "    groupchat=code_review_chat,\n",
        "    llm_config=llm_config\n",
        ")"
      ],
      "metadata": {
        "colab": {
          "base_uri": "https://localhost:8080/"
        },
        "id": "Z1SIol2siIVu",
        "outputId": "1889c677-191f-4344-f56b-fa979c201fe1"
      },
      "execution_count": 42,
      "outputs": [
        {
          "output_type": "stream",
          "name": "stdout",
          "text": [
            "[autogen.oai.client: 10-21 11:57:44] {129} WARNING - The API key specified is not a valid OpenAI format; it won't work with the OpenAI-hosted model.\n"
          ]
        },
        {
          "output_type": "stream",
          "name": "stderr",
          "text": [
            "WARNING:autogen.oai.client:The API key specified is not a valid OpenAI format; it won't work with the OpenAI-hosted model.\n"
          ]
        }
      ]
    },
    {
      "cell_type": "markdown",
      "source": [
        "### Before we start the agents\n",
        "\n",
        "Notice the code we have below. We're about to ask the agents to analyse this code for issues.\n",
        "\n",
        "What issues do you see?\n",
        "\n",
        "There are several security and perfomance issues with the code. Let's see how many of them the agents are able to spot.\n",
        "\n",
        "\n",
        "### ** Important troubleshooting advice\n",
        "\n",
        "If you find that the agents are \"stuck\" and won't progress to the next agent, or won't finish the conversation:\n",
        "\n",
        "Have a look within the output box\n",
        "- Did the agents ask for your feedback?\n",
        "- Use the text box to type in \"exit\" or guide them further\n",
        "\n",
        "It will look like this:\n",
        "\n",
        "![Screenshot 2024-10-21 at 2.09.05 pm.png](data:image/png;base64,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)"
      ],
      "metadata": {
        "id": "wYgikVz7LOE9"
      }
    },
    {
      "cell_type": "code",
      "source": [
        "# start the conversation\n",
        "\n",
        "user.initiate_chat(\n",
        "    code_review_manager,\n",
        "    message=\"\"\"\n",
        "    Review the following code for improvements:\n",
        "    ```\n",
        "    import flask\n",
        "    import os\n",
        "\n",
        "    app = flask.Flask(__name__)\n",
        "\n",
        "    @app.route('/upload', methods=['POST'])\n",
        "    def file_upload():\n",
        "        file = flask.request.files['file']\n",
        "        filename = file.filename\n",
        "\n",
        "        file_path = \"/uploads/\" + filename\n",
        "        file.save(file_path)\n",
        "\n",
        "        return \"File uploaded successfully\"\n",
        "\n",
        "    if __name__ == '__main__':\n",
        "        app.run(debug=True)\n",
        "    ```\n",
        "    Make sure you use each of the available agents.\n",
        "    \"\"\"\n",
        "    # I've added a requirement for the bots to use all the available agents\n",
        "    # if you want the bots to choose which agents to use, you can remove this from the prompt\n",
        ")"
      ],
      "metadata": {
        "colab": {
          "base_uri": "https://localhost:8080/"
        },
        "id": "WcnETgoSikwT",
        "outputId": "f1e01d3a-ffe9-4f6b-f65a-b508bc3259e9"
      },
      "execution_count": 48,
      "outputs": [
        {
          "output_type": "stream",
          "name": "stdout",
          "text": [
            "User (to chat_manager):\n",
            "\n",
            "\n",
            "    Review the following code for improvements: \n",
            "    ```\n",
            "    import flask\n",
            "    import os\n",
            "\n",
            "    app = flask.Flask(__name__)\n",
            "\n",
            "    @app.route('/upload', methods=['POST'])\n",
            "    def file_upload():\n",
            "        file = flask.request.files['file']\n",
            "        filename = file.filename\n",
            "\n",
            "        file_path = \"/uploads/\" + filename\n",
            "        file.save(file_path)\n",
            "\n",
            "        return \"File uploaded successfully\"\n",
            "\n",
            "    if __name__ == '__main__':\n",
            "        app.run(debug=True)\n",
            "    ```\n",
            "    Make sure you use each of the available agents.\n",
            "    \n",
            "\n",
            "--------------------------------------------------------------------------------\n",
            "[autogen.oai.client: 10-21 13:08:57] {129} WARNING - The API key specified is not a valid OpenAI format; it won't work with the OpenAI-hosted model.\n"
          ]
        },
        {
          "output_type": "stream",
          "name": "stderr",
          "text": [
            "WARNING:autogen.oai.client:The API key specified is not a valid OpenAI format; it won't work with the OpenAI-hosted model.\n"
          ]
        },
        {
          "output_type": "stream",
          "name": "stdout",
          "text": [
            "Security_Analyser (to chat_manager):\n",
            "\n",
            "The provided Flask application code has several security vulnerabilities that need to be addressed:\n",
            "\n",
            "1. **Arbitrary File Upload Vulnerability**: The code directly uses the filename provided by the user (`file.filename`) to save the file on the server. This can lead to a security risk where an attacker could upload a malicious file with a crafted filename designed to overwrite critical files or execute arbitrary code.\n",
            "\n",
            "   **Fix**: Sanitize the filename to ensure it does not contain any path traversal characters or other potentially dangerous inputs. Use a secure method to generate or sanitize filenames, such as using a hash or maintaining a strict whitelist of allowed characters.\n",
            "\n",
            "2. **Directory Traversal/Path Traversal Attack**: By directly appending the user-provided filename to a base directory, the application is vulnerable to directory traversal attacks. An attacker could potentially provide a filename like `../../../etc/passwd` to read or overwrite files outside the intended directory.\n",
            "\n",
            "   **Fix**: Validate or sanitize the filename to prevent directory traversal. One approach is to strip out characters like `../` or use libraries like `os.path` to securely join paths and check if the resulting path is within the intended directory.\n",
            "\n",
            "3. **Lack of File Type Validation**: The application does not check the type of the files being uploaded. This can lead to the upload of potentially executable or harmful files, which could be used to deploy malware or scripts that could be executed on the server or by other users.\n",
            "\n",
            "   **Fix**: Implement file type validation based on MIME type or file extensions to restrict uploads to safe file types.\n",
            "\n",
            "4. **Running with Debug Mode Enabled**: The application is set to run with `debug=True`, which can expose detailed error information and interactive debuggers to users. This should not be enabled in a production environment as it can leak sensitive information about the application and its environment.\n",
            "\n",
            "   **Fix**: Ensure that debug mode is disabled in production environments. This can be managed by setting an environment variable or a configuration setting that checks the deployment environment.\n",
            "\n",
            "5. **Lack of Upload Size Limitation**: The code does not enforce any limits on the size of the file being uploaded. This can lead to denial-of-service attacks where the server's storage or memory is exhausted by very large files.\n",
            "\n",
            "   **Fix**: Set a maximum file size limit using Flask configurations like `MAX_CONTENT_LENGTH`.\n",
            "\n",
            "6. **Insecure Storage Location**: Files are being saved to a directory (`/uploads/`) that is not specified. Depending on the server configuration, this directory might be accessible from the web, which could expose uploaded files publicly.\n",
            "\n",
            "   **Fix**: Ensure that uploaded files are stored in a secure location that is not directly accessible via the web. Use server configurations to protect such directories.\n",
            "\n",
            "By addressing these vulnerabilities, the security of the Flask application can be significantly improved.\n",
            "\n",
            "--------------------------------------------------------------------------------\n",
            "[autogen.oai.client: 10-21 13:08:57] {129} WARNING - The API key specified is not a valid OpenAI format; it won't work with the OpenAI-hosted model.\n"
          ]
        },
        {
          "output_type": "stream",
          "name": "stderr",
          "text": [
            "WARNING:autogen.oai.client:The API key specified is not a valid OpenAI format; it won't work with the OpenAI-hosted model.\n"
          ]
        },
        {
          "output_type": "stream",
          "name": "stdout",
          "text": [
            "Bug_Detector (to chat_manager):\n",
            "\n",
            "The security analysis provided is comprehensive and highlights critical vulnerabilities in the Flask application code. Here are some specific code changes and enhancements that can be implemented to address the identified issues:\n",
            "\n",
            "1. **Sanitize Filename**:\n",
            "   ```python\n",
            "   from werkzeug.utils import secure_filename\n",
            "\n",
            "   @app.route('/upload', methods=['POST'])\n",
            "   def file_upload():\n",
            "       file = flask.request.files['file']\n",
            "       filename = secure_filename(file.filename)\n",
            "   ```\n",
            "\n",
            "   Using `secure_filename` from Werkzeug (which is part of Flask's underlying toolkit) ensures that the filename is safe from directory traversal or other malicious manipulations.\n",
            "\n",
            "2. **Validate File Path**:\n",
            "   ```python\n",
            "   import os\n",
            "\n",
            "   UPLOAD_FOLDER = '/path/to/uploads'\n",
            "   app.config['UPLOAD_FOLDER'] = UPLOAD_FOLDER\n",
            "\n",
            "   file_path = os.path.join(app.config['UPLOAD_FOLDER'], filename)\n",
            "   if not os.path.abspath(file_path).startswith(UPLOAD_FOLDER):\n",
            "       return \"Invalid file path\", 400\n",
            "   ```\n",
            "\n",
            "   This code ensures that the file path is within the designated upload folder, preventing directory traversal attacks.\n",
            "\n",
            "3. **File Type Validation**:\n",
            "   ```python\n",
            "   ALLOWED_EXTENSIONS = {'txt', 'pdf', 'png', 'jpg', 'jpeg', 'gif'}\n",
            "\n",
            "   def allowed_file(filename):\n",
            "       return '.' in filename and filename.rsplit('.', 1)[1].lower() in ALLOWED_EXTENSIONS\n",
            "\n",
            "   if not allowed_file(filename):\n",
            "       return \"File type not allowed\", 400\n",
            "   ```\n",
            "\n",
            "   This function checks the file extension before saving it, ensuring only allowed file types are uploaded.\n",
            "\n",
            "4. **Disable Debug Mode in Production**:\n",
            "   ```python\n",
            "   if __name__ == '__main__':\n",
            "       app.run(debug=False)\n",
            "   ```\n",
            "\n",
            "   Ensure that the `debug` mode is turned off when deploying the application to production. This can be further controlled by environment variables to toggle the debug mode as needed.\n",
            "\n",
            "5. **Limit Upload Size**:\n",
            "   ```python\n",
            "   app.config['MAX_CONTENT_LENGTH'] = 16 * 1024 * 1024  # 16 megabytes\n",
            "   ```\n",
            "\n",
            "   This Flask configuration limits the size of uploads, protecting the server from denial-of-service attacks involving large files.\n",
            "\n",
            "6. **Secure Storage Location**:\n",
            "   Ensure that the `/path/to/uploads` is correctly configured on the server to prevent direct access from the web. This might involve configuring server rules to deny web access to the upload directory.\n",
            "\n",
            "By implementing these changes, the application will be more secure against common vulnerabilities associated with file uploads in web applications.\n",
            "\n",
            "--------------------------------------------------------------------------------\n",
            "[autogen.oai.client: 10-21 13:08:57] {129} WARNING - The API key specified is not a valid OpenAI format; it won't work with the OpenAI-hosted model.\n"
          ]
        },
        {
          "output_type": "stream",
          "name": "stderr",
          "text": [
            "WARNING:autogen.oai.client:The API key specified is not a valid OpenAI format; it won't work with the OpenAI-hosted model.\n"
          ]
        },
        {
          "output_type": "stream",
          "name": "stdout",
          "text": [
            "Performance_Analyser (to chat_manager):\n",
            "\n",
            "The code provided for the Flask application handling file uploads has several performance-related issues that can be optimized:\n",
            "\n",
            "1. **File Saving Process**:\n",
            "   - The process of saving a file directly in the route handler can be inefficient, especially if the file size is large or if the server handles multiple requests simultaneously.\n",
            "   - **Optimization**: Consider handling file saving asynchronously or offloading it to a background task using solutions like Celery. This would free up the application to handle more incoming requests while the files are being processed in the background.\n",
            "\n",
            "2. **File Path Concatenation**:\n",
            "   - Using string concatenation for file paths (`\"/uploads/\" + filename`) is not only a security risk but can also lead to performance issues if not handled correctly, especially with a large number of file operations.\n",
            "   - **Optimization**: Use `os.path.join()` for constructing file paths. It is optimized for different OS path rules and is generally more efficient and safer.\n",
            "\n",
            "3. **Repeated Access to Configuration or Environmental Variables**:\n",
            "   - If the application frequently accesses configurations or environment variables (like upload paths or debug flags), it can slightly degrade performance.\n",
            "   - **Optimization**: Cache these values or store them in application context after the first load to avoid repeated access costs.\n",
            "\n",
            "4. **Debug Mode**:\n",
            "   - Running Flask in debug mode (`app.run(debug=True)`) is useful for development but can significantly degrade performance in production due to the additional logging and overhead of the debugger.\n",
            "   - **Optimization**: Ensure that debug mode is disabled in production environments. Use environment variables to control the debug mode setting dynamically.\n",
            "\n",
            "5. **Static File Handling**:\n",
            "   - If Flask serves uploaded files or static content, it can be less efficient compared to dedicated web servers like Nginx or Apache.\n",
            "   - **Optimization**: Offload static file serving to a web server or a content delivery network (CDN) to improve response times and reduce the load on the Flask application.\n",
            "\n",
            "6. **Resource Allocation**:\n",
            "   - The default Flask server is not designed for high concurrency and can become a bottleneck under heavy load.\n",
            "   - **Optimization**: Use a more robust WSGI server like Gunicorn or uWSGI that supports multiple workers and threads for handling requests. This can significantly improve the application's ability to handle concurrent requests.\n",
            "\n",
            "By addressing these performance issues, the Flask application can handle file uploads more efficiently and scale better under increased loads.\n",
            "\n",
            "--------------------------------------------------------------------------------\n",
            "[autogen.oai.client: 10-21 13:08:57] {129} WARNING - The API key specified is not a valid OpenAI format; it won't work with the OpenAI-hosted model.\n"
          ]
        },
        {
          "output_type": "stream",
          "name": "stderr",
          "text": [
            "WARNING:autogen.oai.client:The API key specified is not a valid OpenAI format; it won't work with the OpenAI-hosted model.\n"
          ]
        },
        {
          "output_type": "stream",
          "name": "stdout",
          "text": [
            "Documentation_Reviewer (to chat_manager):\n",
            "\n",
            "The code provided for the Flask application is functional but lacks adequate documentation. Here are specific areas where documentation can be improved:\n",
            "\n",
            "1. **Module and Import Comments**:\n",
            "   - The code begins with imports of `flask` and `os` but does not explain why these modules are necessary. \n",
            "   - **Recommendation**: Add comments above the imports to explain their purpose. For example:\n",
            "     ```python\n",
            "     import flask  # Flask framework for handling web requests.\n",
            "     import os     # OS module for interacting with the operating system.\n",
            "     ```\n",
            "\n",
            "2. **Application Configuration**:\n",
            "   - The Flask application is instantiated without any comments.\n",
            "   - **Recommendation**: Add a comment explaining what `__name__` signifies and why it's used here.\n",
            "     ```python\n",
            "     app = flask.Flask(__name__)  # Create a Flask application instance.\n",
            "     ```\n",
            "\n",
            "3. **Route Handler**:\n",
            "   - The `file_upload` function is crucial as it handles file uploads but lacks documentation.\n",
            "   - **Recommendation**: Document the purpose of the route, expected inputs, and what the function returns.\n",
            "     ```python\n",
            "     @app.route('/upload', methods=['POST'])\n",
            "     def file_upload():\n",
            "         \"\"\"\n",
            "         Handle file uploads via POST requests.\n",
            "         Expects a file part in the request.\n",
            "         Saves the file to a designated uploads directory.\n",
            "         Returns a success message upon saving the file.\n",
            "         \"\"\"\n",
            "         file = flask.request.files['file']\n",
            "         filename = file.filename\n",
            "         ...\n",
            "     ```\n",
            "\n",
            "4. **File Handling**:\n",
            "   - The process of saving the file is not documented.\n",
            "   - **Recommendation**: Add inline comments explaining each step of the file handling process.\n",
            "     ```python\n",
            "     file_path = \"/uploads/\" + filename  # Construct the path to save the file.\n",
            "     file.save(file_path)  # Save the file to the filesystem.\n",
            "     ```\n",
            "\n",
            "5. **Main Block**:\n",
            "   - The conditional block that checks if the script is the main program is not explained.\n",
            "   - **Recommendation**: Explain why this block is necessary.\n",
            "     ```python\n",
            "     if __name__ == '__main__':\n",
            "         app.run(debug=True)  # Run the Flask application with debugging enabled.\n",
            "     ```\n",
            "\n",
            "6. **Security and Performance Considerations**:\n",
            "   - The code lacks any documentation regarding security or performance implications.\n",
            "   - **Recommendation**: Add warnings or notes about not using `debug=True` in production and the need to handle file uploads securely.\n",
            "\n",
            "By adding these detailed comments and documentation, the code becomes more maintainable, understandable, and easier for other developers to work with, especially those who might be new to Flask or handling file uploads.\n",
            "\n",
            "--------------------------------------------------------------------------------\n",
            "[autogen.oai.client: 10-21 13:08:57] {129} WARNING - The API key specified is not a valid OpenAI format; it won't work with the OpenAI-hosted model.\n"
          ]
        },
        {
          "output_type": "stream",
          "name": "stderr",
          "text": [
            "WARNING:autogen.oai.client:The API key specified is not a valid OpenAI format; it won't work with the OpenAI-hosted model.\n"
          ]
        },
        {
          "output_type": "stream",
          "name": "stdout",
          "text": [
            "Report_Creator (to chat_manager):\n",
            "\n",
            "The Flask application code provided for handling file uploads has several areas that need improvement across security, performance, and documentation. Here's a consolidated review and recommendations:\n",
            "\n",
            "### Security Improvements\n",
            "1. **Sanitize Filename**: Use `werkzeug.utils.secure_filename` to avoid arbitrary file upload vulnerabilities.\n",
            "   ```python\n",
            "   from werkzeug.utils import secure_filename\n",
            "   filename = secure_filename(file.filename)\n",
            "   ```\n",
            "2. **Prevent Directory Traversal**: Validate the file path to ensure it's within the intended directory.\n",
            "   ```python\n",
            "   import os\n",
            "   UPLOAD_FOLDER = '/path/to/uploads'\n",
            "   file_path = os.path.join(UPLOAD_FOLDER, filename)\n",
            "   if not os.path.abspath(file_path).startswith(UPLOAD_FOLDER):\n",
            "       return \"Invalid file path\", 400\n",
            "   ```\n",
            "3. **File Type Validation**: Restrict uploads to specific file types.\n",
            "   ```python\n",
            "   ALLOWED_EXTENSIONS = {'txt', 'pdf', 'png', 'jpg', 'jpeg', 'gif'}\n",
            "   def allowed_file(filename):\n",
            "       return '.' in filename and filename.rsplit('.', 1)[1].lower() in ALLOWED_EXTENSIONS\n",
            "   if not allowed_file(filename):\n",
            "       return \"File type not allowed\", 400\n",
            "   ```\n",
            "4. **Disable Debug Mode in Production**: Ensure debug mode is off in production to prevent information leakage.\n",
            "   ```python\n",
            "   app.run(debug=False)\n",
            "   ```\n",
            "5. **Limit Upload Size**: Set a maximum file size limit.\n",
            "   ```python\n",
            "   app.config['MAX_CONTENT_LENGTH'] = 16 * 1024 * 1024  # 16 megabytes\n",
            "   ```\n",
            "\n",
            "### Performance Enhancements\n",
            "1. **Asynchronous File Handling**: Consider using background tasks for handling file saving to improve responsiveness.\n",
            "2. **Optimize File Path Handling**: Use `os.path.join()` for constructing file paths efficiently.\n",
            "3. **Use a Robust WSGI Server**: Deploy with a WSGI server like Gunicorn or uWSGI for better concurrency handling.\n",
            "\n",
            "### Documentation Enhancements\n",
            "1. **Explain Module Imports and Configurations**: Add comments to clarify the purpose of each import and configuration.\n",
            "   ```python\n",
            "   import flask  # Flask framework for handling web requests.\n",
            "   app = flask.Flask(__name__)  # Create a Flask application instance.\n",
            "   ```\n",
            "2. **Detailed Function Documentation**: Document the purpose and mechanics of the `file_upload` function.\n",
            "   ```python\n",
            "   @app.route('/upload', methods=['POST'])\n",
            "   def file_upload():\n",
            "       \"\"\"\n",
            "       Handle file uploads via POST requests.\n",
            "       Expects a file part in the request.\n",
            "       Saves the file to a designated uploads directory.\n",
            "       Returns a success message upon saving the file.\n",
            "       \"\"\"\n",
            "       ...\n",
            "   ```\n",
            "3. **Inline Comments for Clarity**: Use inline comments to explain critical steps within the code, especially in file handling.\n",
            "\n",
            "By implementing these recommendations, the Flask application will be more secure, performant, and maintainable.\n",
            "\n",
            "--------------------------------------------------------------------------------\n",
            "[autogen.oai.client: 10-21 13:08:57] {129} WARNING - The API key specified is not a valid OpenAI format; it won't work with the OpenAI-hosted model.\n"
          ]
        },
        {
          "output_type": "stream",
          "name": "stderr",
          "text": [
            "WARNING:autogen.oai.client:The API key specified is not a valid OpenAI format; it won't work with the OpenAI-hosted model.\n"
          ]
        },
        {
          "output_type": "stream",
          "name": "stdout",
          "text": [
            "Code_Improver (to chat_manager):\n",
            "\n",
            "Here is the improved version of the Flask application code incorporating all the suggested improvements from the previous agents:\n",
            "\n",
            "```python\n",
            "import flask\n",
            "import os\n",
            "from werkzeug.utils import secure_filename\n",
            "\n",
            "app = flask.Flask(__name__)\n",
            "\n",
            "# Configuration\n",
            "UPLOAD_FOLDER = '/path/to/uploads'\n",
            "ALLOWED_EXTENSIONS = {'txt', 'pdf', 'png', 'jpg', 'jpeg', 'gif'}\n",
            "app.config['UPLOAD_FOLDER'] = UPLOAD_FOLDER\n",
            "app.config['MAX_CONTENT_LENGTH'] = 16 * 1024 * 1024  # 16 megabytes\n",
            "\n",
            "def allowed_file(filename):\n",
            "    \"\"\"Check if the file has an allowed extension.\"\"\"\n",
            "    return '.' in filename and filename.rsplit('.', 1)[1].lower() in ALLOWED_EXTENSIONS\n",
            "\n",
            "@app.route('/upload', methods=['POST'])\n",
            "def file_upload():\n",
            "    \"\"\"\n",
            "    Handle file uploads via POST requests.\n",
            "    Expects a file part in the request.\n",
            "    Saves the file to a designated uploads directory.\n",
            "    Returns a success message upon saving the file.\n",
            "    \"\"\"\n",
            "    file = flask.request.files['file']\n",
            "    if file:\n",
            "        filename = secure_filename(file.filename)\n",
            "        if allowed_file(filename):\n",
            "            file_path = os.path.join(app.config['UPLOAD_FOLDER'], filename)\n",
            "            if os.path.abspath(file_path).startswith(app.config['UPLOAD_FOLDER']):\n",
            "                file.save(file_path)\n",
            "                return \"File uploaded successfully\"\n",
            "            else:\n",
            "                return \"Invalid file path\", 400\n",
            "        else:\n",
            "            return \"File type not allowed\", 400\n",
            "    return \"No file provided\", 400\n",
            "\n",
            "if __name__ == '__main__':\n",
            "    # Ensure that debug mode is off when deploying to production\n",
            "    app.run(debug=False)\n",
            "```\n",
            "\n",
            "### Key Improvements:\n",
            "1. **Security**: Filenames are sanitized using `secure_filename`, and file paths are validated to prevent directory traversal. File type validation is implemented to restrict uploads to certain types.\n",
            "2. **Performance**: Configuration settings like `MAX_CONTENT_LENGTH` are used to limit upload size, potentially reducing the impact on server resources.\n",
            "3. **Documentation**: Comments and docstrings are added to explain the purpose and functionality of each part of the code, enhancing maintainability and readability.\n",
            "4. **Best Practices**: Debug mode is disabled in the production-ready code snippet to prevent potential security risks.\n",
            "\n",
            "This code is now more secure, efficient, and easier to understand and maintain.\n",
            "\n",
            "--------------------------------------------------------------------------------\n",
            "[autogen.oai.client: 10-21 13:08:57] {129} WARNING - The API key specified is not a valid OpenAI format; it won't work with the OpenAI-hosted model.\n"
          ]
        },
        {
          "output_type": "stream",
          "name": "stderr",
          "text": [
            "WARNING:autogen.oai.client:The API key specified is not a valid OpenAI format; it won't work with the OpenAI-hosted model.\n"
          ]
        },
        {
          "name": "stdout",
          "output_type": "stream",
          "text": [
            "Provide feedback to chat_manager. Press enter to skip and use auto-reply, or type 'exit' to end the conversation: exit\n"
          ]
        },
        {
          "output_type": "execute_result",
          "data": {
            "text/plain": [
              "ChatResult(chat_id=None, chat_history=[{'content': '\\n    Review the following code for improvements: \\n    ```\\n    import flask\\n    import os\\n\\n    app = flask.Flask(__name__)\\n\\n    @app.route(\\'/upload\\', methods=[\\'POST\\'])\\n    def file_upload():\\n        file = flask.request.files[\\'file\\']\\n        filename = file.filename\\n\\n        file_path = \"/uploads/\" + filename\\n        file.save(file_path)\\n\\n        return \"File uploaded successfully\"\\n\\n    if __name__ == \\'__main__\\':\\n        app.run(debug=True)\\n    ```\\n    Make sure you use each of the available agents.\\n    ', 'role': 'assistant'}, {'content': \"The provided Flask application code has several security vulnerabilities that need to be addressed:\\n\\n1. **Arbitrary File Upload Vulnerability**: The code directly uses the filename provided by the user (`file.filename`) to save the file on the server. This can lead to a security risk where an attacker could upload a malicious file with a crafted filename designed to overwrite critical files or execute arbitrary code.\\n\\n   **Fix**: Sanitize the filename to ensure it does not contain any path traversal characters or other potentially dangerous inputs. Use a secure method to generate or sanitize filenames, such as using a hash or maintaining a strict whitelist of allowed characters.\\n\\n2. **Directory Traversal/Path Traversal Attack**: By directly appending the user-provided filename to a base directory, the application is vulnerable to directory traversal attacks. An attacker could potentially provide a filename like `../../../etc/passwd` to read or overwrite files outside the intended directory.\\n\\n   **Fix**: Validate or sanitize the filename to prevent directory traversal. One approach is to strip out characters like `../` or use libraries like `os.path` to securely join paths and check if the resulting path is within the intended directory.\\n\\n3. **Lack of File Type Validation**: The application does not check the type of the files being uploaded. This can lead to the upload of potentially executable or harmful files, which could be used to deploy malware or scripts that could be executed on the server or by other users.\\n\\n   **Fix**: Implement file type validation based on MIME type or file extensions to restrict uploads to safe file types.\\n\\n4. **Running with Debug Mode Enabled**: The application is set to run with `debug=True`, which can expose detailed error information and interactive debuggers to users. This should not be enabled in a production environment as it can leak sensitive information about the application and its environment.\\n\\n   **Fix**: Ensure that debug mode is disabled in production environments. This can be managed by setting an environment variable or a configuration setting that checks the deployment environment.\\n\\n5. **Lack of Upload Size Limitation**: The code does not enforce any limits on the size of the file being uploaded. This can lead to denial-of-service attacks where the server's storage or memory is exhausted by very large files.\\n\\n   **Fix**: Set a maximum file size limit using Flask configurations like `MAX_CONTENT_LENGTH`.\\n\\n6. **Insecure Storage Location**: Files are being saved to a directory (`/uploads/`) that is not specified. Depending on the server configuration, this directory might be accessible from the web, which could expose uploaded files publicly.\\n\\n   **Fix**: Ensure that uploaded files are stored in a secure location that is not directly accessible via the web. Use server configurations to protect such directories.\\n\\nBy addressing these vulnerabilities, the security of the Flask application can be significantly improved.\", 'name': 'Security_Analyser', 'role': 'user'}, {'content': 'The security analysis provided is comprehensive and highlights critical vulnerabilities in the Flask application code. Here are some specific code changes and enhancements that can be implemented to address the identified issues:\\n\\n1. **Sanitize Filename**:\\n   ```python\\n   from werkzeug.utils import secure_filename\\n\\n   @app.route(\\'/upload\\', methods=[\\'POST\\'])\\n   def file_upload():\\n       file = flask.request.files[\\'file\\']\\n       filename = secure_filename(file.filename)\\n   ```\\n\\n   Using `secure_filename` from Werkzeug (which is part of Flask\\'s underlying toolkit) ensures that the filename is safe from directory traversal or other malicious manipulations.\\n\\n2. **Validate File Path**:\\n   ```python\\n   import os\\n\\n   UPLOAD_FOLDER = \\'/path/to/uploads\\'\\n   app.config[\\'UPLOAD_FOLDER\\'] = UPLOAD_FOLDER\\n\\n   file_path = os.path.join(app.config[\\'UPLOAD_FOLDER\\'], filename)\\n   if not os.path.abspath(file_path).startswith(UPLOAD_FOLDER):\\n       return \"Invalid file path\", 400\\n   ```\\n\\n   This code ensures that the file path is within the designated upload folder, preventing directory traversal attacks.\\n\\n3. **File Type Validation**:\\n   ```python\\n   ALLOWED_EXTENSIONS = {\\'txt\\', \\'pdf\\', \\'png\\', \\'jpg\\', \\'jpeg\\', \\'gif\\'}\\n\\n   def allowed_file(filename):\\n       return \\'.\\' in filename and filename.rsplit(\\'.\\', 1)[1].lower() in ALLOWED_EXTENSIONS\\n\\n   if not allowed_file(filename):\\n       return \"File type not allowed\", 400\\n   ```\\n\\n   This function checks the file extension before saving it, ensuring only allowed file types are uploaded.\\n\\n4. **Disable Debug Mode in Production**:\\n   ```python\\n   if __name__ == \\'__main__\\':\\n       app.run(debug=False)\\n   ```\\n\\n   Ensure that the `debug` mode is turned off when deploying the application to production. This can be further controlled by environment variables to toggle the debug mode as needed.\\n\\n5. **Limit Upload Size**:\\n   ```python\\n   app.config[\\'MAX_CONTENT_LENGTH\\'] = 16 * 1024 * 1024  # 16 megabytes\\n   ```\\n\\n   This Flask configuration limits the size of uploads, protecting the server from denial-of-service attacks involving large files.\\n\\n6. **Secure Storage Location**:\\n   Ensure that the `/path/to/uploads` is correctly configured on the server to prevent direct access from the web. This might involve configuring server rules to deny web access to the upload directory.\\n\\nBy implementing these changes, the application will be more secure against common vulnerabilities associated with file uploads in web applications.', 'name': 'Bug_Detector', 'role': 'user'}, {'content': 'The code provided for the Flask application handling file uploads has several performance-related issues that can be optimized:\\n\\n1. **File Saving Process**:\\n   - The process of saving a file directly in the route handler can be inefficient, especially if the file size is large or if the server handles multiple requests simultaneously.\\n   - **Optimization**: Consider handling file saving asynchronously or offloading it to a background task using solutions like Celery. This would free up the application to handle more incoming requests while the files are being processed in the background.\\n\\n2. **File Path Concatenation**:\\n   - Using string concatenation for file paths (`\"/uploads/\" + filename`) is not only a security risk but can also lead to performance issues if not handled correctly, especially with a large number of file operations.\\n   - **Optimization**: Use `os.path.join()` for constructing file paths. It is optimized for different OS path rules and is generally more efficient and safer.\\n\\n3. **Repeated Access to Configuration or Environmental Variables**:\\n   - If the application frequently accesses configurations or environment variables (like upload paths or debug flags), it can slightly degrade performance.\\n   - **Optimization**: Cache these values or store them in application context after the first load to avoid repeated access costs.\\n\\n4. **Debug Mode**:\\n   - Running Flask in debug mode (`app.run(debug=True)`) is useful for development but can significantly degrade performance in production due to the additional logging and overhead of the debugger.\\n   - **Optimization**: Ensure that debug mode is disabled in production environments. Use environment variables to control the debug mode setting dynamically.\\n\\n5. **Static File Handling**:\\n   - If Flask serves uploaded files or static content, it can be less efficient compared to dedicated web servers like Nginx or Apache.\\n   - **Optimization**: Offload static file serving to a web server or a content delivery network (CDN) to improve response times and reduce the load on the Flask application.\\n\\n6. **Resource Allocation**:\\n   - The default Flask server is not designed for high concurrency and can become a bottleneck under heavy load.\\n   - **Optimization**: Use a more robust WSGI server like Gunicorn or uWSGI that supports multiple workers and threads for handling requests. This can significantly improve the application\\'s ability to handle concurrent requests.\\n\\nBy addressing these performance issues, the Flask application can handle file uploads more efficiently and scale better under increased loads.', 'name': 'Performance_Analyser', 'role': 'user'}, {'content': 'The code provided for the Flask application is functional but lacks adequate documentation. Here are specific areas where documentation can be improved:\\n\\n1. **Module and Import Comments**:\\n   - The code begins with imports of `flask` and `os` but does not explain why these modules are necessary. \\n   - **Recommendation**: Add comments above the imports to explain their purpose. For example:\\n     ```python\\n     import flask  # Flask framework for handling web requests.\\n     import os     # OS module for interacting with the operating system.\\n     ```\\n\\n2. **Application Configuration**:\\n   - The Flask application is instantiated without any comments.\\n   - **Recommendation**: Add a comment explaining what `__name__` signifies and why it\\'s used here.\\n     ```python\\n     app = flask.Flask(__name__)  # Create a Flask application instance.\\n     ```\\n\\n3. **Route Handler**:\\n   - The `file_upload` function is crucial as it handles file uploads but lacks documentation.\\n   - **Recommendation**: Document the purpose of the route, expected inputs, and what the function returns.\\n     ```python\\n     @app.route(\\'/upload\\', methods=[\\'POST\\'])\\n     def file_upload():\\n         \"\"\"\\n         Handle file uploads via POST requests.\\n         Expects a file part in the request.\\n         Saves the file to a designated uploads directory.\\n         Returns a success message upon saving the file.\\n         \"\"\"\\n         file = flask.request.files[\\'file\\']\\n         filename = file.filename\\n         ...\\n     ```\\n\\n4. **File Handling**:\\n   - The process of saving the file is not documented.\\n   - **Recommendation**: Add inline comments explaining each step of the file handling process.\\n     ```python\\n     file_path = \"/uploads/\" + filename  # Construct the path to save the file.\\n     file.save(file_path)  # Save the file to the filesystem.\\n     ```\\n\\n5. **Main Block**:\\n   - The conditional block that checks if the script is the main program is not explained.\\n   - **Recommendation**: Explain why this block is necessary.\\n     ```python\\n     if __name__ == \\'__main__\\':\\n         app.run(debug=True)  # Run the Flask application with debugging enabled.\\n     ```\\n\\n6. **Security and Performance Considerations**:\\n   - The code lacks any documentation regarding security or performance implications.\\n   - **Recommendation**: Add warnings or notes about not using `debug=True` in production and the need to handle file uploads securely.\\n\\nBy adding these detailed comments and documentation, the code becomes more maintainable, understandable, and easier for other developers to work with, especially those who might be new to Flask or handling file uploads.', 'name': 'Documentation_Reviewer', 'role': 'user'}, {'content': 'The Flask application code provided for handling file uploads has several areas that need improvement across security, performance, and documentation. Here\\'s a consolidated review and recommendations:\\n\\n### Security Improvements\\n1. **Sanitize Filename**: Use `werkzeug.utils.secure_filename` to avoid arbitrary file upload vulnerabilities.\\n   ```python\\n   from werkzeug.utils import secure_filename\\n   filename = secure_filename(file.filename)\\n   ```\\n2. **Prevent Directory Traversal**: Validate the file path to ensure it\\'s within the intended directory.\\n   ```python\\n   import os\\n   UPLOAD_FOLDER = \\'/path/to/uploads\\'\\n   file_path = os.path.join(UPLOAD_FOLDER, filename)\\n   if not os.path.abspath(file_path).startswith(UPLOAD_FOLDER):\\n       return \"Invalid file path\", 400\\n   ```\\n3. **File Type Validation**: Restrict uploads to specific file types.\\n   ```python\\n   ALLOWED_EXTENSIONS = {\\'txt\\', \\'pdf\\', \\'png\\', \\'jpg\\', \\'jpeg\\', \\'gif\\'}\\n   def allowed_file(filename):\\n       return \\'.\\' in filename and filename.rsplit(\\'.\\', 1)[1].lower() in ALLOWED_EXTENSIONS\\n   if not allowed_file(filename):\\n       return \"File type not allowed\", 400\\n   ```\\n4. **Disable Debug Mode in Production**: Ensure debug mode is off in production to prevent information leakage.\\n   ```python\\n   app.run(debug=False)\\n   ```\\n5. **Limit Upload Size**: Set a maximum file size limit.\\n   ```python\\n   app.config[\\'MAX_CONTENT_LENGTH\\'] = 16 * 1024 * 1024  # 16 megabytes\\n   ```\\n\\n### Performance Enhancements\\n1. **Asynchronous File Handling**: Consider using background tasks for handling file saving to improve responsiveness.\\n2. **Optimize File Path Handling**: Use `os.path.join()` for constructing file paths efficiently.\\n3. **Use a Robust WSGI Server**: Deploy with a WSGI server like Gunicorn or uWSGI for better concurrency handling.\\n\\n### Documentation Enhancements\\n1. **Explain Module Imports and Configurations**: Add comments to clarify the purpose of each import and configuration.\\n   ```python\\n   import flask  # Flask framework for handling web requests.\\n   app = flask.Flask(__name__)  # Create a Flask application instance.\\n   ```\\n2. **Detailed Function Documentation**: Document the purpose and mechanics of the `file_upload` function.\\n   ```python\\n   @app.route(\\'/upload\\', methods=[\\'POST\\'])\\n   def file_upload():\\n       \"\"\"\\n       Handle file uploads via POST requests.\\n       Expects a file part in the request.\\n       Saves the file to a designated uploads directory.\\n       Returns a success message upon saving the file.\\n       \"\"\"\\n       ...\\n   ```\\n3. **Inline Comments for Clarity**: Use inline comments to explain critical steps within the code, especially in file handling.\\n\\nBy implementing these recommendations, the Flask application will be more secure, performant, and maintainable.', 'name': 'Report_Creator', 'role': 'user'}, {'content': 'Here is the improved version of the Flask application code incorporating all the suggested improvements from the previous agents:\\n\\n```python\\nimport flask\\nimport os\\nfrom werkzeug.utils import secure_filename\\n\\napp = flask.Flask(__name__)\\n\\n# Configuration\\nUPLOAD_FOLDER = \\'/path/to/uploads\\'\\nALLOWED_EXTENSIONS = {\\'txt\\', \\'pdf\\', \\'png\\', \\'jpg\\', \\'jpeg\\', \\'gif\\'}\\napp.config[\\'UPLOAD_FOLDER\\'] = UPLOAD_FOLDER\\napp.config[\\'MAX_CONTENT_LENGTH\\'] = 16 * 1024 * 1024  # 16 megabytes\\n\\ndef allowed_file(filename):\\n    \"\"\"Check if the file has an allowed extension.\"\"\"\\n    return \\'.\\' in filename and filename.rsplit(\\'.\\', 1)[1].lower() in ALLOWED_EXTENSIONS\\n\\n@app.route(\\'/upload\\', methods=[\\'POST\\'])\\ndef file_upload():\\n    \"\"\"\\n    Handle file uploads via POST requests.\\n    Expects a file part in the request.\\n    Saves the file to a designated uploads directory.\\n    Returns a success message upon saving the file.\\n    \"\"\"\\n    file = flask.request.files[\\'file\\']\\n    if file:\\n        filename = secure_filename(file.filename)\\n        if allowed_file(filename):\\n            file_path = os.path.join(app.config[\\'UPLOAD_FOLDER\\'], filename)\\n            if os.path.abspath(file_path).startswith(app.config[\\'UPLOAD_FOLDER\\']):\\n                file.save(file_path)\\n                return \"File uploaded successfully\"\\n            else:\\n                return \"Invalid file path\", 400\\n        else:\\n            return \"File type not allowed\", 400\\n    return \"No file provided\", 400\\n\\nif __name__ == \\'__main__\\':\\n    # Ensure that debug mode is off when deploying to production\\n    app.run(debug=False)\\n```\\n\\n### Key Improvements:\\n1. **Security**: Filenames are sanitized using `secure_filename`, and file paths are validated to prevent directory traversal. File type validation is implemented to restrict uploads to certain types.\\n2. **Performance**: Configuration settings like `MAX_CONTENT_LENGTH` are used to limit upload size, potentially reducing the impact on server resources.\\n3. **Documentation**: Comments and docstrings are added to explain the purpose and functionality of each part of the code, enhancing maintainability and readability.\\n4. **Best Practices**: Debug mode is disabled in the production-ready code snippet to prevent potential security risks.\\n\\nThis code is now more secure, efficient, and easier to understand and maintain.', 'name': 'Code_Improver', 'role': 'user'}], summary='Here is the improved version of the Flask application code incorporating all the suggested improvements from the previous agents:\\n\\n```python\\nimport flask\\nimport os\\nfrom werkzeug.utils import secure_filename\\n\\napp = flask.Flask(__name__)\\n\\n# Configuration\\nUPLOAD_FOLDER = \\'/path/to/uploads\\'\\nALLOWED_EXTENSIONS = {\\'txt\\', \\'pdf\\', \\'png\\', \\'jpg\\', \\'jpeg\\', \\'gif\\'}\\napp.config[\\'UPLOAD_FOLDER\\'] = UPLOAD_FOLDER\\napp.config[\\'MAX_CONTENT_LENGTH\\'] = 16 * 1024 * 1024  # 16 megabytes\\n\\ndef allowed_file(filename):\\n    \"\"\"Check if the file has an allowed extension.\"\"\"\\n    return \\'.\\' in filename and filename.rsplit(\\'.\\', 1)[1].lower() in ALLOWED_EXTENSIONS\\n\\n@app.route(\\'/upload\\', methods=[\\'POST\\'])\\ndef file_upload():\\n    \"\"\"\\n    Handle file uploads via POST requests.\\n    Expects a file part in the request.\\n    Saves the file to a designated uploads directory.\\n    Returns a success message upon saving the file.\\n    \"\"\"\\n    file = flask.request.files[\\'file\\']\\n    if file:\\n        filename = secure_filename(file.filename)\\n        if allowed_file(filename):\\n            file_path = os.path.join(app.config[\\'UPLOAD_FOLDER\\'], filename)\\n            if os.path.abspath(file_path).startswith(app.config[\\'UPLOAD_FOLDER\\']):\\n                file.save(file_path)\\n                return \"File uploaded successfully\"\\n            else:\\n                return \"Invalid file path\", 400\\n        else:\\n            return \"File type not allowed\", 400\\n    return \"No file provided\", 400\\n\\nif __name__ == \\'__main__\\':\\n    # Ensure that debug mode is off when deploying to production\\n    app.run(debug=False)\\n```\\n\\n### Key Improvements:\\n1. **Security**: Filenames are sanitized using `secure_filename`, and file paths are validated to prevent directory traversal. File type validation is implemented to restrict uploads to certain types.\\n2. **Performance**: Configuration settings like `MAX_CONTENT_LENGTH` are used to limit upload size, potentially reducing the impact on server resources.\\n3. **Documentation**: Comments and docstrings are added to explain the purpose and functionality of each part of the code, enhancing maintainability and readability.\\n4. **Best Practices**: Debug mode is disabled in the production-ready code snippet to prevent potential security risks.\\n\\nThis code is now more secure, efficient, and easier to understand and maintain.', cost={'usage_including_cached_inference': {'total_cost': 0}, 'usage_excluding_cached_inference': {'total_cost': 0}}, human_input=['exit'])"
            ]
          },
          "metadata": {},
          "execution_count": 48
        }
      ]
    },
    {
      "cell_type": "markdown",
      "source": [
        "Great work! You've now created a small group of Agents, which were able to analyse the code and make improvements.\n",
        "\n",
        "Notice how the agents passed messages between each other and identified the issues in our faulty code."
      ],
      "metadata": {
        "id": "4bMQlndqEWP5"
      }
    },
    {
      "cell_type": "markdown",
      "source": [
        "## Tips: How to improve your prompts"
      ],
      "metadata": {
        "id": "ZVzhUIH0GRlq"
      }
    },
    {
      "cell_type": "markdown",
      "source": [
        "There's no silver bullet, but there are a few strategies you can use:\n",
        "\n",
        "- Be very specific about what you need\n",
        "  - LLMs are general and unfocused. By giving them more instructions, you can improve the results\n",
        "- Structure your prompts\n",
        "  - If you send the LLM lots of content, without structuring it into sentences or add clear separation, it will struggle to find the start and end of your content\n",
        "  - Use backticks (```) to separate your code from the text in your prompt\n",
        "  - Or you can use three double quotes (\"\"\" content here \"\"\") to separate groups of text from each other\n",
        "  - Bullet points (- or *) help the model to understand lists\n",
        "  - Write your important command at the end of the prompt\n",
        "    - LLMs have issues with attention. Sometimes text in a section will throw them off-course and lead to weird results\n",
        "    - By placing your important section at the end, the LLMs are more likely to do it\n",
        "- Use capital letters\n",
        "  - LLMs are trained on thousands of books and social media posts\n",
        "  - We can use this to our advantage and improve our results\n",
        "  - If I type LIKE THIS AT YOU, you'll see it as though I'm \"shouting\" or stressing something important\n",
        "  - LLMs also perceive it as \"shouting\" or stressing a specific instruction\n",
        "  - If you find that they're not listening to you, use captial letters\n",
        "  - e.g. DO NOT RETURN JSON. YOU SHOULD ONLY RETURN TEXT."
      ],
      "metadata": {
        "id": "6OmROH8WJPYY"
      }
    },
    {
      "cell_type": "markdown",
      "source": [
        "## Activity 2: Create your own agents\n",
        "\n",
        "Now that you've seen how the agents work, let's create your own.\n",
        "\n",
        "Spend 5-10 mins on this and give the agents a\n",
        "- name\n",
        "- guidance on what they should or shouldn't do\n",
        "\n",
        "Remember, the User Proxy needs to be added within your GroupChat\n",
        "\n",
        "Then start the conversation.\n",
        "\n",
        "Keep an eye on the output. The agents may ask for your feedback on how to continue.\n",
        "\n",
        "You'll likely see an option to type your response, which is often shown on the far right hand side of the output section."
      ],
      "metadata": {
        "id": "3WLvk6KaDQ_b"
      }
    },
    {
      "cell_type": "code",
      "source": [
        "# install all the packages needed\n",
        "!pip install pyautogen==0.2.27 python-dotenv\n",
        "\n",
        "# add the necessary imports\n",
        "import os\n",
        "from autogen import AssistantAgent, UserProxyAgent, GroupChat, GroupChatManager\n",
        "from dotenv import load_dotenv\n",
        "\n",
        "# setup the model\n",
        "config_list=[\n",
        "    {\n",
        "        \"model\": \"gpt-4-turbo-2024-04-09\",\n",
        "        \"api_key\": \"sk-YuCxEx32WV_9qUV-ZpRGdTySlVRn7L4Ug3n3UPjEEYT3BlbkFJe2G0InuXqpB1io_uYhNHJSGRqmKf6oNUAqyNcRbRwA\",\n",
        "    }\n",
        "]\n",
        "\n",
        "# configure the model\n",
        "# you can customise these settings however you want\n",
        "llm_config = {\n",
        "    \"seed\": 42,\n",
        "    \"temperature\": 0,\n",
        "    \"config_list\": config_list,\n",
        "    \"timeout\": 1200,\n",
        "}"
      ],
      "metadata": {
        "id": "oXwQM3cbFM3v"
      },
      "execution_count": null,
      "outputs": []
    },
    {
      "cell_type": "code",
      "source": [
        "# create the agents\n",
        "\n",
        "# you should always have at least one User Proxy\n",
        "# this allows you to send messages to the bots\n",
        "user = UserProxyAgent(\n",
        "    name=\"User\",\n",
        "    system_message=\"User: Your role is to provide feedback on the process.\",\n",
        "    code_execution_config={\n",
        "        \"use_docker\": False,\n",
        "        \"timeout\": 120,\n",
        "        \"last_n_messages\": 1,\n",
        "    },\n",
        ")\n",
        "\n",
        "# add your AI agents below\n",
        "agent_1 = AssistantAgent(\n",
        "    name=\"ADD_NAME_HERE_1\",\n",
        "    system_message=\"ADD_NAME_HERE_1: NOW_ADD_YOUR_GUIDANCE_HERE\",\n",
        "    llm_config=llm_config,\n",
        ")\n",
        "\n",
        "agent_2 = AssistantAgent(\n",
        "    name=\"ADD_NAME_HERE_2\",\n",
        "    system_message=\"ADD_NAME_HERE_2: NOW_ADD_YOUR_GUIDANCE_HERE\",\n",
        "    llm_config=llm_config,\n",
        ")\n",
        "\n",
        "agent_3 = AssistantAgent(\n",
        "    name=\"ADD_NAME_HERE_3\",\n",
        "    system_message=\"ADD_NAME_HERE_3: NOW_ADD_YOUR_GUIDANCE_HERE\",\n",
        "    llm_config=llm_config,\n",
        ")\n",
        "\n",
        "# this UserProxy isn't used in our code, but I've included it as an example\n",
        "# it forces the bots to ask for input from the human-in-the-loop\n",
        "# agent_4 = UserProxyAgent(\n",
        "#     name=\"ADD_NAME_HERE_4\",\n",
        "#     system_message=\"Report Tester: Test the report and provide feedback. Collaborate with the Report Creator for any necessary adjustments.\",\n",
        "#     code_execution_config={\n",
        "#         \"use_docker\": False,\n",
        "#         \"timeout\": 120,\n",
        "#         \"last_n_messages\": 3,\n",
        "#     },\n",
        "#     human_input_mode=\"ALWAYS\",\n",
        "# )"
      ],
      "metadata": {
        "id": "PVfRLFZJFgYw"
      },
      "execution_count": null,
      "outputs": []
    },
    {
      "cell_type": "markdown",
      "source": [
        "### Review\n",
        "\n",
        "Once you're done, let us know what custom agents you developed."
      ],
      "metadata": {
        "id": "epD9sAstKlhU"
      }
    },
    {
      "cell_type": "code",
      "source": [],
      "metadata": {
        "id": "U3_FEdhDi7kZ"
      },
      "execution_count": 45,
      "outputs": []
    }
  ]
}